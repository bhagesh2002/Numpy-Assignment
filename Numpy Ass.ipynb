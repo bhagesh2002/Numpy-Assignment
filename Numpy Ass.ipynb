{
 "cells": [
  {
   "cell_type": "markdown",
   "id": "7ea6948d-f528-4d5c-bcf2-3c7535132a1d",
   "metadata": {},
   "source": [
    "Numpy Assignment"
   ]
  },
  {
   "cell_type": "markdown",
   "id": "46f96242-147f-43b5-b2ca-fca2f5cc1075",
   "metadata": {},
   "source": [
    "Theoratical Question:"
   ]
  },
  {
   "cell_type": "markdown",
   "id": "91b4323c-adc4-45c2-bff1-49706fd0fb43",
   "metadata": {},
   "source": [
    "1. Explain the purpose and advantages of NumPy in scientific computing and data analysis. How does it\n",
    "enhance Python's capabilities for numerical operations?"
   ]
  },
  {
   "cell_type": "markdown",
   "id": "fb09a727-e23f-4c1a-a840-7e481ef75905",
   "metadata": {},
   "source": [
    "NumPy is a fundamental library in Python for scientific computing. It offers powerful features for working with multidimensional arrays and performing various mathematical operations efficiently.\n",
    "\n",
    "NumPy (Numerical Python) is an open source Python library that has a wide range of inbuilt functions."
   ]
  },
  {
   "cell_type": "markdown",
   "id": "726b7ae8-3a74-4493-b689-ecaba6bbdc0c",
   "metadata": {},
   "source": [
    "2. Compare and contrast np.mean() and np.average() functions in NumPy. When would you use one over the\n",
    "other?"
   ]
  },
  {
   "cell_type": "code",
   "execution_count": 2,
   "id": "e1df85f1-f28a-4444-95ac-965bdc65cd3d",
   "metadata": {},
   "outputs": [],
   "source": [
    "import numpy as np"
   ]
  },
  {
   "cell_type": "code",
   "execution_count": 11,
   "id": "f35df5b2-ad74-4238-9f85-16a2c0d7fc04",
   "metadata": {},
   "outputs": [],
   "source": [
    "a=np.eye(3)"
   ]
  },
  {
   "cell_type": "code",
   "execution_count": 12,
   "id": "3a5c0508-cd7a-451f-8d8c-a8c4abb6b1ac",
   "metadata": {},
   "outputs": [
    {
     "data": {
      "text/plain": [
       "array([[1., 0., 0.],\n",
       "       [0., 1., 0.],\n",
       "       [0., 0., 1.]])"
      ]
     },
     "execution_count": 12,
     "metadata": {},
     "output_type": "execute_result"
    }
   ],
   "source": [
    "a"
   ]
  },
  {
   "cell_type": "code",
   "execution_count": 13,
   "id": "e16e0fff-53bc-4e62-bbb1-8339c84ca267",
   "metadata": {},
   "outputs": [
    {
     "data": {
      "text/plain": [
       "0.3333333333333333"
      ]
     },
     "execution_count": 13,
     "metadata": {},
     "output_type": "execute_result"
    }
   ],
   "source": [
    "np.mean(a)"
   ]
  },
  {
   "cell_type": "code",
   "execution_count": 14,
   "id": "507ebc13-a880-40c9-829f-a298fe20cac7",
   "metadata": {},
   "outputs": [
    {
     "data": {
      "text/plain": [
       "0.3333333333333333"
      ]
     },
     "execution_count": 14,
     "metadata": {},
     "output_type": "execute_result"
    }
   ],
   "source": [
    "np.average(a)"
   ]
  },
  {
   "cell_type": "markdown",
   "id": "3e6f0e9d-0449-4f37-a26f-054425af3c2f",
   "metadata": {},
   "source": [
    "3. Describe the methods for reversing a NumPy array along different axes. Provide examples for 1D and 2D\n",
    "arrays."
   ]
  },
  {
   "cell_type": "code",
   "execution_count": 4,
   "id": "1e5470e3-dce1-4a7a-8eb1-161551d2f1bc",
   "metadata": {},
   "outputs": [],
   "source": [
    "a=np.random.randint(1,8,(4,2))"
   ]
  },
  {
   "cell_type": "code",
   "execution_count": 5,
   "id": "2df57017-88ad-484b-9758-4284ce1a9bcc",
   "metadata": {},
   "outputs": [
    {
     "data": {
      "text/plain": [
       "array([[7, 1],\n",
       "       [5, 3],\n",
       "       [6, 2],\n",
       "       [5, 2]])"
      ]
     },
     "execution_count": 5,
     "metadata": {},
     "output_type": "execute_result"
    }
   ],
   "source": [
    "a"
   ]
  },
  {
   "cell_type": "code",
   "execution_count": 6,
   "id": "7edf18cc-b4ee-40ed-a88f-640f2b5b2e2a",
   "metadata": {},
   "outputs": [
    {
     "data": {
      "text/plain": [
       "array([[7, 1, 5, 3],\n",
       "       [6, 2, 5, 2]])"
      ]
     },
     "execution_count": 6,
     "metadata": {},
     "output_type": "execute_result"
    }
   ],
   "source": [
    "a.reshape(2,4)"
   ]
  },
  {
   "cell_type": "code",
   "execution_count": 8,
   "id": "8716957a-cc84-403a-8e58-dd7aa669b53a",
   "metadata": {},
   "outputs": [
    {
     "data": {
      "text/plain": [
       "array([[7, 1],\n",
       "       [5, 3],\n",
       "       [6, 2],\n",
       "       [5, 2]])"
      ]
     },
     "execution_count": 8,
     "metadata": {},
     "output_type": "execute_result"
    }
   ],
   "source": [
    "#this is 2D array\n",
    "a"
   ]
  },
  {
   "cell_type": "code",
   "execution_count": 9,
   "id": "ba2e3b46-5be1-4291-ab86-d5ca30016d22",
   "metadata": {},
   "outputs": [],
   "source": [
    "#this is 1D array"
   ]
  },
  {
   "cell_type": "code",
   "execution_count": 10,
   "id": "71ab2d1c-c861-4bbe-a92f-554b3f79c1ad",
   "metadata": {},
   "outputs": [],
   "source": [
    "b=np.zeros(1)"
   ]
  },
  {
   "cell_type": "code",
   "execution_count": 11,
   "id": "43a84788-f935-47fa-9464-ef4b9a474ad3",
   "metadata": {},
   "outputs": [
    {
     "data": {
      "text/plain": [
       "array([0.])"
      ]
     },
     "execution_count": 11,
     "metadata": {},
     "output_type": "execute_result"
    }
   ],
   "source": [
    "b"
   ]
  },
  {
   "cell_type": "markdown",
   "id": "f0304bbd-f7f7-4183-bcb3-9398a4c0755c",
   "metadata": {},
   "source": [
    "4. How can you determine the data type of elements in a NumPy array? Discuss the importance of data types in memory management and performance."
   ]
  },
  {
   "cell_type": "code",
   "execution_count": 18,
   "id": "c1f76292-8b2d-4f6c-8826-a854499bdda3",
   "metadata": {},
   "outputs": [],
   "source": [
    "a=np.random.randint(1,8,(4,2),dtype=int)"
   ]
  },
  {
   "cell_type": "code",
   "execution_count": 19,
   "id": "f0e7eb6b-e3cc-40ae-94ad-d069ddb896e8",
   "metadata": {},
   "outputs": [
    {
     "data": {
      "text/plain": [
       "array([[2, 2],\n",
       "       [4, 2],\n",
       "       [3, 2],\n",
       "       [2, 4]])"
      ]
     },
     "execution_count": 19,
     "metadata": {},
     "output_type": "execute_result"
    }
   ],
   "source": [
    "a"
   ]
  },
  {
   "cell_type": "markdown",
   "id": "0969427e-7f77-47b3-a636-f8abe4b783a5",
   "metadata": {},
   "source": [
    "Data Types"
   ]
  },
  {
   "cell_type": "markdown",
   "id": "c38f1e40-0a6c-4f3c-b061-6fb46ad9a4b9",
   "metadata": {},
   "source": [
    "Data Types: NumPy arrays can hold various data types like integers (int), floats (float), strings (str), etc. You can specify the data type during creation or let NumPy infer it..dtype attribute reveals the data type of the elements in the array"
   ]
  },
  {
   "cell_type": "markdown",
   "id": "3eef32fd-7907-44af-8b17-b52a675e62c2",
   "metadata": {},
   "source": [
    "Advantage of Numpy :NumPy is ideal for handling large amounts of homogeneous (same-type) data, offering significant improvements in speed and memory efficiency. It also provides high-level syntax for a wide range of numerical operations, making it a powerful tool for scientific computing and data processing on the CPU."
   ]
  },
  {
   "cell_type": "markdown",
   "id": "a3350698-a935-4b8d-a77b-d04aeb26b078",
   "metadata": {},
   "source": [
    "5. Define ndarrays in NumPy and explain their key features. How do they differ from standard Python lists?"
   ]
  },
  {
   "cell_type": "code",
   "execution_count": 17,
   "id": "4cbec596-cdce-4368-bea4-11d43ff0d110",
   "metadata": {},
   "outputs": [],
   "source": [
    "m=np.ones(3)"
   ]
  },
  {
   "cell_type": "code",
   "execution_count": 18,
   "id": "1304a677-2444-43d5-affa-5d695400b563",
   "metadata": {},
   "outputs": [
    {
     "data": {
      "text/plain": [
       "array([1., 1., 1.])"
      ]
     },
     "execution_count": 18,
     "metadata": {},
     "output_type": "execute_result"
    }
   ],
   "source": [
    "m"
   ]
  },
  {
   "cell_type": "code",
   "execution_count": 19,
   "id": "95534e25-31c8-4c41-9a6d-7db2ad564c11",
   "metadata": {},
   "outputs": [
    {
     "data": {
      "text/plain": [
       "numpy.ndarray"
      ]
     },
     "execution_count": 19,
     "metadata": {},
     "output_type": "execute_result"
    }
   ],
   "source": [
    "type(m)"
   ]
  },
  {
   "cell_type": "markdown",
   "id": "3b7c942a-d43a-4f0c-85b3-30be8b4068b5",
   "metadata": {},
   "source": [
    "6. Analyze the performance benefits of NumPy arrays over Python lists for large-scale numerical operations."
   ]
  },
  {
   "cell_type": "markdown",
   "id": "f1c49ca9-8728-4ca0-95dd-713f349446be",
   "metadata": {},
   "source": [
    "NumPy arrays are multidimensional collections of elements, all of the same data type. Unlike Python lists, NumPy arrays are designed for high-performance operations on large datasets."
   ]
  },
  {
   "cell_type": "markdown",
   "id": "cc4c549a-8690-4ae6-b49c-60ef2a70d31d",
   "metadata": {},
   "source": [
    "Advantage of Numpy :NumPy is ideal for handling large amounts of homogeneous (same-type) data, offering significant improvements in speed and memory efficiency. It also provides high-level syntax for a wide range of numerical operations, making it a powerful tool for scientific computing and data processing on the CPU."
   ]
  },
  {
   "cell_type": "markdown",
   "id": "1e407e1f-35df-48a4-92f6-21b89b47e804",
   "metadata": {},
   "source": [
    "7. Compare vstack() and hstack() functions in NumPy. Provide examples demonstrating their usage and\n",
    "output."
   ]
  },
  {
   "cell_type": "markdown",
   "id": "77a7d593-22e7-4ada-a7ad-42a079465f28",
   "metadata": {},
   "source": [
    "8. Explain the differences between fliplr() and flipud() methods in NumPy, including their effects on various\n",
    "array dimensions."
   ]
  },
  {
   "cell_type": "markdown",
   "id": "487ec78a-8047-4c7e-91a6-bcbde9cf45e4",
   "metadata": {},
   "source": [
    "9. Discuss the functionality of the array_split() method in NumPy. How does it handle uneven splits?"
   ]
  },
  {
   "cell_type": "code",
   "execution_count": 21,
   "id": "a37d4775-1524-492a-ab16-6456cb559e1a",
   "metadata": {},
   "outputs": [
    {
     "ename": "AttributeError",
     "evalue": "'list' object has no attribute 'split'",
     "output_type": "error",
     "traceback": [
      "\u001b[0;31m---------------------------------------------------------------------------\u001b[0m",
      "\u001b[0;31mAttributeError\u001b[0m                            Traceback (most recent call last)",
      "Cell \u001b[0;32mIn[21], line 2\u001b[0m\n\u001b[1;32m      1\u001b[0m \u001b[38;5;28mstr\u001b[39m\u001b[38;5;241m=\u001b[39m[\u001b[38;5;124m'\u001b[39m\u001b[38;5;124mi love pwskills\u001b[39m\u001b[38;5;124m'\u001b[39m]\n\u001b[0;32m----> 2\u001b[0m \u001b[38;5;28;43mstr\u001b[39;49m\u001b[38;5;241;43m.\u001b[39;49m\u001b[43msplit\u001b[49m(\u001b[38;5;124m\"\u001b[39m\u001b[38;5;124m,\u001b[39m\u001b[38;5;124m\"\u001b[39m)\n",
      "\u001b[0;31mAttributeError\u001b[0m: 'list' object has no attribute 'split'"
     ]
    }
   ],
   "source": [
    "str=['i love pwskills']\n",
    "str.split(\",\")"
   ]
  },
  {
   "cell_type": "markdown",
   "id": "ebcfcd84-cb12-45b2-8780-49b8e29cec6d",
   "metadata": {},
   "source": [
    "10. Explain the concepts of vectorization and broadcasting in NumPy. How do they contribute to efficient array\n",
    "operations?"
   ]
  },
  {
   "cell_type": "markdown",
   "id": "cf681c77-b193-4d07-99e5-7753822a3eec",
   "metadata": {},
   "source": [
    "Broadcasting is a mechanism in NumPy that allows performing operations on arrays of different shapes under certain conditions. When operands have different shapes, NumPy expands the smaller array to match the larger one in a specific way to perform element-wise operations."
   ]
  },
  {
   "cell_type": "markdown",
   "id": "03fa41b5-654e-4572-a873-9e0527d916b9",
   "metadata": {},
   "source": [
    "PRACTICAL QUESTIONS:"
   ]
  },
  {
   "cell_type": "markdown",
   "id": "e3923b4d-94a5-4ff4-b402-79bd289f3151",
   "metadata": {},
   "source": [
    "1. Create a 3x3 NumPy array with random integers between 1 and 100. Then, interchange its rows and columns."
   ]
  },
  {
   "cell_type": "code",
   "execution_count": 1,
   "id": "99af4e68-076d-4ab2-a579-85e2caa6af41",
   "metadata": {},
   "outputs": [],
   "source": [
    "import numpy as np"
   ]
  },
  {
   "cell_type": "code",
   "execution_count": 16,
   "id": "f7fe86ef-e7d4-4496-a335-b785d30aaa41",
   "metadata": {},
   "outputs": [],
   "source": [
    "a=np.random.randint(1,100,size=(3,3))"
   ]
  },
  {
   "cell_type": "code",
   "execution_count": 17,
   "id": "e56975dd-47f7-4a55-a1f2-6ed96f441457",
   "metadata": {},
   "outputs": [
    {
     "data": {
      "text/plain": [
       "array([[24, 18, 97],\n",
       "       [28, 91, 13],\n",
       "       [23,  4, 38]])"
      ]
     },
     "execution_count": 17,
     "metadata": {},
     "output_type": "execute_result"
    }
   ],
   "source": [
    "a"
   ]
  },
  {
   "cell_type": "code",
   "execution_count": 18,
   "id": "611d82d0-d211-45c7-b4d1-450dcb6c0964",
   "metadata": {},
   "outputs": [
    {
     "data": {
      "text/plain": [
       "array([[24, 28, 23],\n",
       "       [18, 91,  4],\n",
       "       [97, 13, 38]])"
      ]
     },
     "execution_count": 18,
     "metadata": {},
     "output_type": "execute_result"
    }
   ],
   "source": [
    "a.T"
   ]
  },
  {
   "cell_type": "markdown",
   "id": "3fa53859-f041-4e34-8e56-32ada16f4aed",
   "metadata": {},
   "source": [
    "2. Generate a 1D NumPy array with 10 elements. Reshape it into a 2x5 array, then into a 5x2 array."
   ]
  },
  {
   "cell_type": "code",
   "execution_count": 11,
   "id": "c7a66370-4a23-40dd-8255-7a3b5d346afd",
   "metadata": {},
   "outputs": [],
   "source": [
    "b=np.ones(10)"
   ]
  },
  {
   "cell_type": "code",
   "execution_count": 12,
   "id": "fabc766e-32cd-4272-ad20-4275e9b21e6c",
   "metadata": {},
   "outputs": [
    {
     "data": {
      "text/plain": [
       "array([1., 1., 1., 1., 1., 1., 1., 1., 1., 1.])"
      ]
     },
     "execution_count": 12,
     "metadata": {},
     "output_type": "execute_result"
    }
   ],
   "source": [
    "b"
   ]
  },
  {
   "cell_type": "code",
   "execution_count": 13,
   "id": "6c44806a-228a-4dde-a87a-abb18fa5cabc",
   "metadata": {},
   "outputs": [
    {
     "data": {
      "text/plain": [
       "array([[1., 1., 1., 1., 1.],\n",
       "       [1., 1., 1., 1., 1.]])"
      ]
     },
     "execution_count": 13,
     "metadata": {},
     "output_type": "execute_result"
    }
   ],
   "source": [
    "b.reshape(2,5)"
   ]
  },
  {
   "cell_type": "code",
   "execution_count": 14,
   "id": "ae7a6438-c07d-4352-a5ba-6241bc675285",
   "metadata": {},
   "outputs": [
    {
     "data": {
      "text/plain": [
       "array([[1., 1.],\n",
       "       [1., 1.],\n",
       "       [1., 1.],\n",
       "       [1., 1.],\n",
       "       [1., 1.]])"
      ]
     },
     "execution_count": 14,
     "metadata": {},
     "output_type": "execute_result"
    }
   ],
   "source": [
    "b.reshape(5,2)"
   ]
  },
  {
   "cell_type": "markdown",
   "id": "cfaf0581-fe56-41f0-a8a5-0dd168f13b7c",
   "metadata": {},
   "source": [
    "3. Create a 4x4 NumPy array with random float values. Add a border of zeros around it, resulting in a 6x6 array."
   ]
  },
  {
   "cell_type": "code",
   "execution_count": null,
   "id": "6fe67783-205d-47d0-88ee-0fb900c04638",
   "metadata": {},
   "outputs": [],
   "source": []
  },
  {
   "cell_type": "code",
   "execution_count": 24,
   "id": "5cb1a5e6-e08f-4f85-a5a5-7421d9d93ec9",
   "metadata": {},
   "outputs": [],
   "source": [
    "import random"
   ]
  },
  {
   "cell_type": "code",
   "execution_count": 29,
   "id": "e5d86b7a-6023-4dad-82a0-6c5b4109609e",
   "metadata": {},
   "outputs": [],
   "source": [
    "c=np.random.rand(4,4)"
   ]
  },
  {
   "cell_type": "code",
   "execution_count": 30,
   "id": "71d68009-21c4-4047-a40a-42d5fa87509c",
   "metadata": {},
   "outputs": [
    {
     "data": {
      "text/plain": [
       "array([[0.66907289, 0.80497703, 0.00183234, 0.67800018],\n",
       "       [0.86844981, 0.53397402, 0.59786977, 0.41875724],\n",
       "       [0.88654349, 0.2178634 , 0.85949376, 0.54752472],\n",
       "       [0.1656474 , 0.65066027, 0.61276418, 0.48245988]])"
      ]
     },
     "execution_count": 30,
     "metadata": {},
     "output_type": "execute_result"
    }
   ],
   "source": [
    "c"
   ]
  },
  {
   "cell_type": "markdown",
   "id": "ee70d197-bdba-4496-90a5-92fc76e412cc",
   "metadata": {},
   "source": [
    "4. Using NumPy, create an array of integers from 10 to 60 with a step of 5."
   ]
  },
  {
   "cell_type": "code",
   "execution_count": 3,
   "id": "9598b29a-f8b2-4c2f-9a1a-391921771e1f",
   "metadata": {},
   "outputs": [],
   "source": [
    "a=np.arange(10,60,5)"
   ]
  },
  {
   "cell_type": "code",
   "execution_count": 4,
   "id": "cea0dcd8-8db2-466d-ac1a-2be146323cd9",
   "metadata": {},
   "outputs": [
    {
     "data": {
      "text/plain": [
       "array([10, 15, 20, 25, 30, 35, 40, 45, 50, 55])"
      ]
     },
     "execution_count": 4,
     "metadata": {},
     "output_type": "execute_result"
    }
   ],
   "source": [
    "a"
   ]
  },
  {
   "cell_type": "markdown",
   "id": "a3e74b53-ea68-4d76-9213-daaebff66c98",
   "metadata": {},
   "source": [
    "5. Create a NumPy array of strings ['python', 'numpy', 'pandas']. Apply different case transformations\n",
    "(uppercase, lowercase, title case, etc.) to each element."
   ]
  },
  {
   "cell_type": "code",
   "execution_count": 5,
   "id": "a16e2758-660b-4fb8-a2c1-d72ad934e099",
   "metadata": {},
   "outputs": [],
   "source": [
    "l=['python','numpy','pandas']"
   ]
  },
  {
   "cell_type": "code",
   "execution_count": 7,
   "id": "a0bcc06b-ca52-47e7-880b-89d5187e43ea",
   "metadata": {},
   "outputs": [],
   "source": [
    "e=np.array(l)"
   ]
  },
  {
   "cell_type": "code",
   "execution_count": 8,
   "id": "6bc0c429-9018-47ec-8487-e2d6d641f67b",
   "metadata": {},
   "outputs": [
    {
     "data": {
      "text/plain": [
       "array(['python', 'numpy', 'pandas'], dtype='<U6')"
      ]
     },
     "execution_count": 8,
     "metadata": {},
     "output_type": "execute_result"
    }
   ],
   "source": [
    "e"
   ]
  },
  {
   "cell_type": "code",
   "execution_count": 19,
   "id": "e5ce1ae9-475d-432d-a40b-1d6ac9ce0b78",
   "metadata": {},
   "outputs": [
    {
     "data": {
      "text/plain": [
       "array(['PYTHON', 'NUMPY', 'PANDAS'], dtype='<U6')"
      ]
     },
     "execution_count": 19,
     "metadata": {},
     "output_type": "execute_result"
    }
   ],
   "source": [
    "np.char.upper(e)"
   ]
  },
  {
   "cell_type": "code",
   "execution_count": 22,
   "id": "ce15237f-71f0-49e9-9637-5ce566c9aa6f",
   "metadata": {},
   "outputs": [
    {
     "data": {
      "text/plain": [
       "array(['Python', 'Numpy', 'Pandas'], dtype='<U6')"
      ]
     },
     "execution_count": 22,
     "metadata": {},
     "output_type": "execute_result"
    }
   ],
   "source": [
    "np.char.capitalize(e)"
   ]
  },
  {
   "cell_type": "code",
   "execution_count": 23,
   "id": "f27f2be0-9b97-429a-8ad7-0f2fbdcfc906",
   "metadata": {},
   "outputs": [
    {
     "data": {
      "text/plain": [
       "array(['python', 'numpy', 'pandas'], dtype='<U6')"
      ]
     },
     "execution_count": 23,
     "metadata": {},
     "output_type": "execute_result"
    }
   ],
   "source": [
    "np.char.lower(e)"
   ]
  },
  {
   "cell_type": "markdown",
   "id": "e54b4f84-02ed-4734-93f5-2c7f1762e726",
   "metadata": {},
   "source": [
    "6. Generate a NumPy array of words. Insert a space between each character of every word in the array."
   ]
  },
  {
   "cell_type": "code",
   "execution_count": 33,
   "id": "3303bfc7-a096-4c3a-853f-183a443418f2",
   "metadata": {},
   "outputs": [
    {
     "data": {
      "text/plain": [
       "['Ajay', ' Bijay', ' Sanjay']"
      ]
     },
     "execution_count": 33,
     "metadata": {},
     "output_type": "execute_result"
    }
   ],
   "source": [
    "string = \"Ajay, Bijay, Sanjay\"\n",
    "string.split(\",\")"
   ]
  },
  {
   "cell_type": "code",
   "execution_count": 34,
   "id": "7b7a5878-1fc3-4a40-b861-f49521d8d8c1",
   "metadata": {},
   "outputs": [
    {
     "data": {
      "text/plain": [
       "array(['Ajay', ' Bijay', ' Sanjay'], dtype='<U7')"
      ]
     },
     "execution_count": 34,
     "metadata": {},
     "output_type": "execute_result"
    }
   ],
   "source": [
    "np.array(string.split(\",\"))"
   ]
  },
  {
   "cell_type": "markdown",
   "id": "9de66ebc-72ed-4837-a039-190ca91d1eee",
   "metadata": {},
   "source": [
    "7. Create two 2D NumPy arrays and perform element-wise addition, subtraction, multiplication, and division."
   ]
  },
  {
   "cell_type": "code",
   "execution_count": 38,
   "id": "bdd93f60-57e5-4712-b3c6-1e998bd02a09",
   "metadata": {},
   "outputs": [],
   "source": [
    "f1=np.array([[2,3,4],[5,6,7],[8,9,1]])\n",
    "f2=np.array([[4,6,2],[7,9,3],[4,2,1]])"
   ]
  },
  {
   "cell_type": "code",
   "execution_count": 39,
   "id": "ec70c3c0-cfc4-4a56-9e5a-ffdb16cb1a6b",
   "metadata": {},
   "outputs": [
    {
     "data": {
      "text/plain": [
       "array([[2, 3, 4],\n",
       "       [5, 6, 7],\n",
       "       [8, 9, 1]])"
      ]
     },
     "execution_count": 39,
     "metadata": {},
     "output_type": "execute_result"
    }
   ],
   "source": [
    "f1"
   ]
  },
  {
   "cell_type": "code",
   "execution_count": 40,
   "id": "6a83ba77-eb61-4723-b125-9d10f7b2a37f",
   "metadata": {},
   "outputs": [
    {
     "data": {
      "text/plain": [
       "array([[4, 6, 2],\n",
       "       [7, 9, 3],\n",
       "       [4, 2, 1]])"
      ]
     },
     "execution_count": 40,
     "metadata": {},
     "output_type": "execute_result"
    }
   ],
   "source": [
    "f2"
   ]
  },
  {
   "cell_type": "code",
   "execution_count": 41,
   "id": "8e48d9a0-28c4-4787-a097-f056e42d4fad",
   "metadata": {},
   "outputs": [
    {
     "data": {
      "text/plain": [
       "array([[ 6,  9,  6],\n",
       "       [12, 15, 10],\n",
       "       [12, 11,  2]])"
      ]
     },
     "execution_count": 41,
     "metadata": {},
     "output_type": "execute_result"
    }
   ],
   "source": [
    "f1+f2"
   ]
  },
  {
   "cell_type": "code",
   "execution_count": 42,
   "id": "4cdba638-2ae0-4a66-884e-9f2c4fe21f27",
   "metadata": {},
   "outputs": [
    {
     "data": {
      "text/plain": [
       "array([[-2, -3,  2],\n",
       "       [-2, -3,  4],\n",
       "       [ 4,  7,  0]])"
      ]
     },
     "execution_count": 42,
     "metadata": {},
     "output_type": "execute_result"
    }
   ],
   "source": [
    "f1-f2"
   ]
  },
  {
   "cell_type": "code",
   "execution_count": 43,
   "id": "4d5a7261-ed92-4c49-bb44-227747c18bb2",
   "metadata": {},
   "outputs": [
    {
     "data": {
      "text/plain": [
       "array([[ 8, 18,  8],\n",
       "       [35, 54, 21],\n",
       "       [32, 18,  1]])"
      ]
     },
     "execution_count": 43,
     "metadata": {},
     "output_type": "execute_result"
    }
   ],
   "source": [
    "f1*f2"
   ]
  },
  {
   "cell_type": "code",
   "execution_count": 45,
   "id": "3761cbce-204c-4702-9bd8-4ffb4c88d522",
   "metadata": {},
   "outputs": [
    {
     "data": {
      "text/plain": [
       "array([[0.5       , 0.5       , 2.        ],\n",
       "       [0.71428571, 0.66666667, 2.33333333],\n",
       "       [2.        , 4.5       , 1.        ]])"
      ]
     },
     "execution_count": 45,
     "metadata": {},
     "output_type": "execute_result"
    }
   ],
   "source": [
    "f1/f2"
   ]
  },
  {
   "cell_type": "markdown",
   "id": "ccccae44-b35d-4149-82cd-1892c2b90bf3",
   "metadata": {},
   "source": [
    "8. Use NumPy to create a 5x5 identity matrix, then extract its diagonal elements."
   ]
  },
  {
   "cell_type": "code",
   "execution_count": 3,
   "id": "5dc04d1a-3a48-4fc2-9b7b-2da8a4c35c0a",
   "metadata": {},
   "outputs": [],
   "source": [
    "import numpy.matlib as nm"
   ]
  },
  {
   "cell_type": "code",
   "execution_count": 7,
   "id": "d5654373-c913-48e3-9ed1-1fc864dc2a7b",
   "metadata": {},
   "outputs": [],
   "source": [
    "h=nm.eye(5,dtype=int)"
   ]
  },
  {
   "cell_type": "code",
   "execution_count": 8,
   "id": "df18a6eb-f153-4bc9-bb06-b8ff2b2db0f5",
   "metadata": {},
   "outputs": [
    {
     "data": {
      "text/plain": [
       "matrix([[1, 0, 0, 0, 0],\n",
       "        [0, 1, 0, 0, 0],\n",
       "        [0, 0, 1, 0, 0],\n",
       "        [0, 0, 0, 1, 0],\n",
       "        [0, 0, 0, 0, 1]])"
      ]
     },
     "execution_count": 8,
     "metadata": {},
     "output_type": "execute_result"
    }
   ],
   "source": [
    "h"
   ]
  },
  {
   "cell_type": "code",
   "execution_count": null,
   "id": "a7abe9bf-bbf1-45c1-80b5-d58c193a382e",
   "metadata": {},
   "outputs": [],
   "source": []
  },
  {
   "cell_type": "markdown",
   "id": "9553dbc7-bcf2-447f-a7c7-fe1c72de0489",
   "metadata": {},
   "source": [
    "9. Generate a NumPy array of 100 random integers between 0 and 1000. Find and display all prime numbers in\n",
    "this array."
   ]
  },
  {
   "cell_type": "code",
   "execution_count": 53,
   "id": "fbd7bd65-ed43-431d-a6d3-5fdb99f97596",
   "metadata": {},
   "outputs": [],
   "source": [
    "g= np.random.randint(1,1000, (10,10))"
   ]
  },
  {
   "cell_type": "code",
   "execution_count": 54,
   "id": "d48379af-f919-449d-aad4-eca6cfca9c44",
   "metadata": {},
   "outputs": [
    {
     "data": {
      "text/plain": [
       "array([[898,  64, 424, 674, 459, 279, 359, 534, 790, 691],\n",
       "       [331, 489,  36, 587, 213, 145, 253, 948, 694, 146],\n",
       "       [720,  20, 829, 828, 432,  85, 129, 664, 764, 566],\n",
       "       [617, 145, 666, 727, 303,  43, 631, 274, 372, 167],\n",
       "       [ 76, 829, 127, 814, 469, 480, 275, 356, 644, 708],\n",
       "       [780, 277, 735, 103, 665, 219, 612, 136, 781, 156],\n",
       "       [635,  97, 326,  27, 600, 900, 965,   3,  46, 805],\n",
       "       [851, 202, 546, 810, 614, 778, 215, 497, 498,   8],\n",
       "       [793, 801, 921, 265, 393, 659, 853, 323, 510, 722],\n",
       "       [795, 174, 356, 363, 306, 575, 615, 512, 660, 817]])"
      ]
     },
     "execution_count": 54,
     "metadata": {},
     "output_type": "execute_result"
    }
   ],
   "source": [
    "g"
   ]
  },
  {
   "cell_type": "markdown",
   "id": "5fd04dc4-bf40-48b9-891a-ee3387c080a1",
   "metadata": {},
   "source": [
    "10. Create a NumPy array representing daily temperatures for a month. Calculate and display the weekly\n",
    "averages."
   ]
  },
  {
   "cell_type": "code",
   "execution_count": 7,
   "id": "64bfd9c1-c391-4aea-a301-adaaff84e510",
   "metadata": {},
   "outputs": [],
   "source": [
    "g=np.random.randint(30,60,size=28)"
   ]
  },
  {
   "cell_type": "code",
   "execution_count": 3,
   "id": "9a2432ca-a5e4-41d3-85c2-073ef4c22acb",
   "metadata": {},
   "outputs": [
    {
     "data": {
      "text/plain": [
       "array([52, 53, 39, 51, 36, 42, 35, 45, 39, 38, 52, 38, 48, 44, 41, 43, 54,\n",
       "       37, 41, 53, 53, 42, 37, 40, 34, 31, 39, 42, 49, 57])"
      ]
     },
     "execution_count": 3,
     "metadata": {},
     "output_type": "execute_result"
    }
   ],
   "source": [
    "g"
   ]
  },
  {
   "cell_type": "code",
   "execution_count": 8,
   "id": "2f571244-8a80-4a07-a9e3-9617d7b75f9c",
   "metadata": {},
   "outputs": [],
   "source": [
    "weekly_temperatures=g.reshape(-1,7)"
   ]
  },
  {
   "cell_type": "code",
   "execution_count": 9,
   "id": "550052f2-c367-4af5-96fa-dfef7ead6d0f",
   "metadata": {},
   "outputs": [
    {
     "data": {
      "text/plain": [
       "array([[43, 55, 54, 59, 51, 35, 42],\n",
       "       [45, 37, 47, 41, 34, 52, 44],\n",
       "       [32, 42, 39, 43, 56, 43, 54],\n",
       "       [39, 39, 49, 30, 43, 43, 37]])"
      ]
     },
     "execution_count": 9,
     "metadata": {},
     "output_type": "execute_result"
    }
   ],
   "source": [
    "weekly_temperatures"
   ]
  },
  {
   "cell_type": "code",
   "execution_count": 14,
   "id": "c6b9b7bb-0d5e-4e87-82db-007816dafa6c",
   "metadata": {},
   "outputs": [],
   "source": [
    "weekly_averages=np.mean(weekly_temperatures,axis=0)"
   ]
  },
  {
   "cell_type": "code",
   "execution_count": 15,
   "id": "cdd034c3-b554-4261-8e35-55a72ebf5d56",
   "metadata": {},
   "outputs": [
    {
     "data": {
      "text/plain": [
       "array([39.75, 43.25, 47.25, 43.25, 46.  , 43.25, 44.25])"
      ]
     },
     "execution_count": 15,
     "metadata": {},
     "output_type": "execute_result"
    }
   ],
   "source": [
    "weekly_averages"
   ]
  },
  {
   "cell_type": "code",
   "execution_count": null,
   "id": "e853101c-b7f7-4c05-b237-629977aa386e",
   "metadata": {},
   "outputs": [],
   "source": []
  }
 ],
 "metadata": {
  "kernelspec": {
   "display_name": "Python 3 (ipykernel)",
   "language": "python",
   "name": "python3"
  },
  "language_info": {
   "codemirror_mode": {
    "name": "ipython",
    "version": 3
   },
   "file_extension": ".py",
   "mimetype": "text/x-python",
   "name": "python",
   "nbconvert_exporter": "python",
   "pygments_lexer": "ipython3",
   "version": "3.10.8"
  }
 },
 "nbformat": 4,
 "nbformat_minor": 5
}
