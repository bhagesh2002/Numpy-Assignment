{
 "cells": [
  {
   "cell_type": "markdown",
   "id": "7ea6948d-f528-4d5c-bcf2-3c7535132a1d",
   "metadata": {},
   "source": [
    "Numpy Assignment"
   ]
  },
  {
   "cell_type": "markdown",
   "id": "46f96242-147f-43b5-b2ca-fca2f5cc1075",
   "metadata": {},
   "source": [
    "Theoratical Question:"
   ]
  },
  {
   "cell_type": "markdown",
   "id": "91b4323c-adc4-45c2-bff1-49706fd0fb43",
   "metadata": {},
   "source": [
    "1. Explain the purpose and advantages of NumPy in scientific computing and data analysis. How does it\n",
    "enhance Python's capabilities for numerical operations?"
   ]
  },
  {
   "cell_type": "markdown",
   "id": "fb09a727-e23f-4c1a-a840-7e481ef75905",
   "metadata": {},
   "source": [
    "NumPy is a fundamental library in Python for scientific computing. It offers powerful features for working with multidimensional arrays and performing various mathematical operations efficiently.\n",
    "\n",
    "NumPy (Numerical Python) is an open source Python library that has a wide range of inbuilt functions."
   ]
  },
  {
   "cell_type": "markdown",
   "id": "726b7ae8-3a74-4493-b689-ecaba6bbdc0c",
   "metadata": {},
   "source": [
    "2. Compare and contrast np.mean() and np.average() functions in NumPy. When would you use one over the\n",
    "other?"
   ]
  },
  {
   "cell_type": "code",
   "execution_count": 2,
   "id": "e1df85f1-f28a-4444-95ac-965bdc65cd3d",
   "metadata": {},
   "outputs": [],
   "source": [
    "import numpy as np"
   ]
  },
  {
   "cell_type": "code",
   "execution_count": 11,
   "id": "f35df5b2-ad74-4238-9f85-16a2c0d7fc04",
   "metadata": {},
   "outputs": [],
   "source": [
    "a=np.eye(3)"
   ]
  },
  {
   "cell_type": "code",
   "execution_count": 12,
   "id": "3a5c0508-cd7a-451f-8d8c-a8c4abb6b1ac",
   "metadata": {},
   "outputs": [
    {
     "data": {
      "text/plain": [
       "array([[1., 0., 0.],\n",
       "       [0., 1., 0.],\n",
       "       [0., 0., 1.]])"
      ]
     },
     "execution_count": 12,
     "metadata": {},
     "output_type": "execute_result"
    }
   ],
   "source": [
    "a"
   ]
  },
  {
   "cell_type": "code",
   "execution_count": 13,
   "id": "e16e0fff-53bc-4e62-bbb1-8339c84ca267",
   "metadata": {},
   "outputs": [
    {
     "data": {
      "text/plain": [
       "0.3333333333333333"
      ]
     },
     "execution_count": 13,
     "metadata": {},
     "output_type": "execute_result"
    }
   ],
   "source": [
    "np.mean(a)"
   ]
  },
  {
   "cell_type": "code",
   "execution_count": 14,
   "id": "507ebc13-a880-40c9-829f-a298fe20cac7",
   "metadata": {},
   "outputs": [
    {
     "data": {
      "text/plain": [
       "0.3333333333333333"
      ]
     },
     "execution_count": 14,
     "metadata": {},
     "output_type": "execute_result"
    }
   ],
   "source": [
    "np.average(a)"
   ]
  },
  {
   "cell_type": "markdown",
   "id": "3e6f0e9d-0449-4f37-a26f-054425af3c2f",
   "metadata": {},
   "source": [
    "3. Describe the methods for reversing a NumPy array along different axes. Provide examples for 1D and 2D\n",
    "arrays."
   ]
  },
  {
   "cell_type": "code",
   "execution_count": 4,
   "id": "1e5470e3-dce1-4a7a-8eb1-161551d2f1bc",
   "metadata": {},
   "outputs": [],
   "source": [
    "a=np.random.randint(1,8,(4,2))"
   ]
  },
  {
   "cell_type": "code",
   "execution_count": 5,
   "id": "2df57017-88ad-484b-9758-4284ce1a9bcc",
   "metadata": {},
   "outputs": [
    {
     "data": {
      "text/plain": [
       "array([[7, 1],\n",
       "       [5, 3],\n",
       "       [6, 2],\n",
       "       [5, 2]])"
      ]
     },
     "execution_count": 5,
     "metadata": {},
     "output_type": "execute_result"
    }
   ],
   "source": [
    "a"
   ]
  },
  {
   "cell_type": "code",
   "execution_count": 6,
   "id": "7edf18cc-b4ee-40ed-a88f-640f2b5b2e2a",
   "metadata": {},
   "outputs": [
    {
     "data": {
      "text/plain": [
       "array([[7, 1, 5, 3],\n",
       "       [6, 2, 5, 2]])"
      ]
     },
     "execution_count": 6,
     "metadata": {},
     "output_type": "execute_result"
    }
   ],
   "source": [
    "a.reshape(2,4)"
   ]
  },
  {
   "cell_type": "code",
   "execution_count": 8,
   "id": "8716957a-cc84-403a-8e58-dd7aa669b53a",
   "metadata": {},
   "outputs": [
    {
     "data": {
      "text/plain": [
       "array([[7, 1],\n",
       "       [5, 3],\n",
       "       [6, 2],\n",
       "       [5, 2]])"
      ]
     },
     "execution_count": 8,
     "metadata": {},
     "output_type": "execute_result"
    }
   ],
   "source": [
    "#this is 2D array\n",
    "a"
   ]
  },
  {
   "cell_type": "code",
   "execution_count": 9,
   "id": "ba2e3b46-5be1-4291-ab86-d5ca30016d22",
   "metadata": {},
   "outputs": [],
   "source": [
    "#this is 1D array"
   ]
  },
  {
   "cell_type": "code",
   "execution_count": 10,
   "id": "71ab2d1c-c861-4bbe-a92f-554b3f79c1ad",
   "metadata": {},
   "outputs": [],
   "source": [
    "b=np.zeros(1)"
   ]
  },
  {
   "cell_type": "code",
   "execution_count": 11,
   "id": "43a84788-f935-47fa-9464-ef4b9a474ad3",
   "metadata": {},
   "outputs": [
    {
     "data": {
      "text/plain": [
       "array([0.])"
      ]
     },
     "execution_count": 11,
     "metadata": {},
     "output_type": "execute_result"
    }
   ],
   "source": [
    "b"
   ]
  },
  {
   "cell_type": "markdown",
   "id": "f0304bbd-f7f7-4183-bcb3-9398a4c0755c",
   "metadata": {},
   "source": [
    "4. How can you determine the data type of elements in a NumPy array? Discuss the importance of data types in memory management and performance."
   ]
  },
  {
   "cell_type": "code",
   "execution_count": 18,
   "id": "c1f76292-8b2d-4f6c-8826-a854499bdda3",
   "metadata": {},
   "outputs": [],
   "source": [
    "a=np.random.randint(1,8,(4,2),dtype=int)"
   ]
  },
  {
   "cell_type": "code",
   "execution_count": 19,
   "id": "f0e7eb6b-e3cc-40ae-94ad-d069ddb896e8",
   "metadata": {},
   "outputs": [
    {
     "data": {
      "text/plain": [
       "array([[2, 2],\n",
       "       [4, 2],\n",
       "       [3, 2],\n",
       "       [2, 4]])"
      ]
     },
     "execution_count": 19,
     "metadata": {},
     "output_type": "execute_result"
    }
   ],
   "source": [
    "a"
   ]
  },
  {
   "cell_type": "markdown",
   "id": "0969427e-7f77-47b3-a636-f8abe4b783a5",
   "metadata": {},
   "source": [
    "Data Types"
   ]
  },
  {
   "cell_type": "markdown",
   "id": "c38f1e40-0a6c-4f3c-b061-6fb46ad9a4b9",
   "metadata": {},
   "source": [
    "Data Types: NumPy arrays can hold various data types like integers (int), floats (float), strings (str), etc. You can specify the data type during creation or let NumPy infer it..dtype attribute reveals the data type of the elements in the array"
   ]
  },
  {
   "cell_type": "markdown",
   "id": "3eef32fd-7907-44af-8b17-b52a675e62c2",
   "metadata": {},
   "source": [
    "Advantage of Numpy :NumPy is ideal for handling large amounts of homogeneous (same-type) data, offering significant improvements in speed and memory efficiency. It also provides high-level syntax for a wide range of numerical operations, making it a powerful tool for scientific computing and data processing on the CPU."
   ]
  },
  {
   "cell_type": "markdown",
   "id": "a3350698-a935-4b8d-a77b-d04aeb26b078",
   "metadata": {},
   "source": [
    "5. Define ndarrays in NumPy and explain their key features. How do they differ from standard Python lists?"
   ]
  },
  {
   "cell_type": "markdown",
   "id": "3b7c942a-d43a-4f0c-85b3-30be8b4068b5",
   "metadata": {},
   "source": [
    "6. Analyze the performance benefits of NumPy arrays over Python lists for large-scale numerical operations."
   ]
  },
  {
   "cell_type": "markdown",
   "id": "f1c49ca9-8728-4ca0-95dd-713f349446be",
   "metadata": {},
   "source": [
    "NumPy arrays are multidimensional collections of elements, all of the same data type. Unlike Python lists, NumPy arrays are designed for high-performance operations on large datasets."
   ]
  },
  {
   "cell_type": "markdown",
   "id": "cc4c549a-8690-4ae6-b49c-60ef2a70d31d",
   "metadata": {},
   "source": [
    "Advantage of Numpy :NumPy is ideal for handling large amounts of homogeneous (same-type) data, offering significant improvements in speed and memory efficiency. It also provides high-level syntax for a wide range of numerical operations, making it a powerful tool for scientific computing and data processing on the CPU."
   ]
  },
  {
   "cell_type": "markdown",
   "id": "1e407e1f-35df-48a4-92f6-21b89b47e804",
   "metadata": {},
   "source": [
    "7. Compare vstack() and hstack() functions in NumPy. Provide examples demonstrating their usage and\n",
    "output."
   ]
  },
  {
   "cell_type": "markdown",
   "id": "77a7d593-22e7-4ada-a7ad-42a079465f28",
   "metadata": {},
   "source": [
    "8. Explain the differences between fliplr() and flipud() methods in NumPy, including their effects on various\n",
    "array dimensions."
   ]
  },
  {
   "cell_type": "markdown",
   "id": "487ec78a-8047-4c7e-91a6-bcbde9cf45e4",
   "metadata": {},
   "source": [
    "9. Discuss the functionality of the array_split() method in NumPy. How does it handle uneven splits?"
   ]
  },
  {
   "cell_type": "markdown",
   "id": "ebcfcd84-cb12-45b2-8780-49b8e29cec6d",
   "metadata": {},
   "source": [
    "10. Explain the concepts of vectorization and broadcasting in NumPy. How do they contribute to efficient array\n",
    "operations?"
   ]
  },
  {
   "cell_type": "markdown",
   "id": "03fa41b5-654e-4572-a873-9e0527d916b9",
   "metadata": {},
   "source": [
    "PRACTICAL QUESTIONS:"
   ]
  },
  {
   "cell_type": "markdown",
   "id": "e3923b4d-94a5-4ff4-b402-79bd289f3151",
   "metadata": {},
   "source": [
    "1. Create a 3x3 NumPy array with random integers between 1 and 100. Then, interchange its rows and columns."
   ]
  },
  {
   "cell_type": "code",
   "execution_count": 2,
   "id": "99af4e68-076d-4ab2-a579-85e2caa6af41",
   "metadata": {},
   "outputs": [],
   "source": [
    "import numpy as np"
   ]
  },
  {
   "cell_type": "code",
   "execution_count": 6,
   "id": "f7fe86ef-e7d4-4496-a335-b785d30aaa41",
   "metadata": {},
   "outputs": [],
   "source": [
    "a=np.random.randint(1,100,size=(3,3))"
   ]
  },
  {
   "cell_type": "code",
   "execution_count": 7,
   "id": "e56975dd-47f7-4a55-a1f2-6ed96f441457",
   "metadata": {},
   "outputs": [
    {
     "data": {
      "text/plain": [
       "array([[ 9, 28, 78],\n",
       "       [37, 81, 71],\n",
       "       [11, 77, 81]])"
      ]
     },
     "execution_count": 7,
     "metadata": {},
     "output_type": "execute_result"
    }
   ],
   "source": [
    "a"
   ]
  },
  {
   "cell_type": "code",
   "execution_count": 9,
   "id": "611d82d0-d211-45c7-b4d1-450dcb6c0964",
   "metadata": {},
   "outputs": [
    {
     "data": {
      "text/plain": [
       "array([[ 9],\n",
       "       [28],\n",
       "       [78],\n",
       "       [37],\n",
       "       [81],\n",
       "       [71],\n",
       "       [11],\n",
       "       [77],\n",
       "       [81]])"
      ]
     },
     "execution_count": 9,
     "metadata": {},
     "output_type": "execute_result"
    }
   ],
   "source": [
    "a.reshape(9,1)"
   ]
  },
  {
   "cell_type": "markdown",
   "id": "3fa53859-f041-4e34-8e56-32ada16f4aed",
   "metadata": {},
   "source": [
    "2. Generate a 1D NumPy array with 10 elements. Reshape it into a 2x5 array, then into a 5x2 array."
   ]
  },
  {
   "cell_type": "code",
   "execution_count": null,
   "id": "c7a66370-4a23-40dd-8255-7a3b5d346afd",
   "metadata": {},
   "outputs": [],
   "source": []
  }
 ],
 "metadata": {
  "kernelspec": {
   "display_name": "Python 3 (ipykernel)",
   "language": "python",
   "name": "python3"
  },
  "language_info": {
   "codemirror_mode": {
    "name": "ipython",
    "version": 3
   },
   "file_extension": ".py",
   "mimetype": "text/x-python",
   "name": "python",
   "nbconvert_exporter": "python",
   "pygments_lexer": "ipython3",
   "version": "3.10.8"
  }
 },
 "nbformat": 4,
 "nbformat_minor": 5
}
